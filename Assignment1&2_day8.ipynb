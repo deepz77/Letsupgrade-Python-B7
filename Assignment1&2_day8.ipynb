{
 "cells": [
  {
   "cell_type": "code",
   "execution_count": 2,
   "metadata": {
    "colab": {},
    "colab_type": "code",
    "id": "qDCMobE7-vNx"
   },
   "outputs": [],
   "source": [
    "#Decorators based problems\n",
    "def hai(hello):#getting one input using decorators\n",
    "    def func_in():\n",
    "        a=int(input(\"enter the input  :\"))\n",
    "        hello(a)\n",
    "    return func_in"
   ]
  },
  {
   "cell_type": "code",
   "execution_count": 3,
   "metadata": {
    "colab": {},
    "colab_type": "code",
    "id": "UdpOBN3-_rcl"
   },
   "outputs": [],
   "source": [
    "@hai\n",
    "def fact(a):\n",
    "    if(a<0):\n",
    "        print(\"enter only positive number\")\n",
    "    elif(a==0 and a==1):\n",
    "        print(\"factorial of {}\".format(a))\n",
    "    else:\n",
    "        sum=1\n",
    "        print(\"factorial 0f {}\\n\".format(a))\n",
    "        for i in range(1,a+1):\n",
    "            sum=sum*i\n",
    "        print(sum)"
   ]
  },
  {
   "cell_type": "code",
   "execution_count": 4,
   "metadata": {
    "colab": {
     "base_uri": "https://localhost:8080/",
     "height": 85
    },
    "colab_type": "code",
    "id": "2NzZIqsQ_xrM",
    "outputId": "e65c0c29-a062-43b3-9a32-e7867da1ceb8"
   },
   "outputs": [
    {
     "name": "stdout",
     "output_type": "stream",
     "text": [
      "enter the input  :5\n",
      "factorial 0f 5\n",
      "\n",
      "120\n"
     ]
    }
   ],
   "source": [
    "fact()"
   ]
  },
  {
   "cell_type": "code",
   "execution_count": 5,
   "metadata": {
    "colab": {},
    "colab_type": "code",
    "id": "LZnypQkC_3Q0"
   },
   "outputs": [],
   "source": [
    "@hai\n",
    "def fibbonocii(n):\n",
    "    sum=0\n",
    "    a=-1\n",
    "    b=1\n",
    "    if(n<0):\n",
    "        print(\"enter only positive number\")\n",
    "    elif(n==0 or n==1):\n",
    "         print(n)\n",
    "    else:\n",
    "         for i in range(0,n+1,1):\n",
    "            sum=a+b\n",
    "            a=b\n",
    "            b=sum\n",
    "            print(sum)"
   ]
  },
  {
   "cell_type": "code",
   "execution_count": 8,
   "metadata": {
    "colab": {
     "base_uri": "https://localhost:8080/",
     "height": 221
    },
    "colab_type": "code",
    "id": "TqV_640rAAOr",
    "outputId": "8ebfa536-7d29-4570-ec44-48ecdb156873"
   },
   "outputs": [
    {
     "name": "stdout",
     "output_type": "stream",
     "text": [
      "enter the input  :10\n",
      "0\n",
      "1\n",
      "1\n",
      "2\n",
      "3\n",
      "5\n",
      "8\n",
      "13\n",
      "21\n",
      "34\n",
      "55\n"
     ]
    }
   ],
   "source": [
    "fibbonocii()"
   ]
  },
  {
   "cell_type": "code",
   "execution_count": 6,
   "metadata": {
    "colab": {},
    "colab_type": "code",
    "id": "6AvUdX9oAPuL"
   },
   "outputs": [],
   "source": [
    "def hello(Deepak):\n",
    "    def getInfo():\n",
    "        a=int(input(\"enter the starting number : \"))\n",
    "        b=int(input(\"enter the ending number\"))\n",
    "        Deepak(a,b)\n",
    "    return getInfo"
   ]
  },
  {
   "cell_type": "code",
   "execution_count": 7,
   "metadata": {
    "colab": {},
    "colab_type": "code",
    "id": "QAAjJn8uB2ko"
   },
   "outputs": [],
   "source": [
    "@hello\n",
    "def oddEven(a,b):\n",
    "    \n",
    "    for i in range(a,b+1):\n",
    "        if(i%2==0):\n",
    "            print(\"{} is an even number \".format(i))\n",
    "\n",
    "        else:\n",
    "            print(\"{} is an odd number \".format(i))"
   ]
  },
  {
   "cell_type": "code",
   "execution_count": 11,
   "metadata": {
    "colab": {
     "base_uri": "https://localhost:8080/",
     "height": 153
    },
    "colab_type": "code",
    "id": "7qMEkSbuCDKJ",
    "outputId": "cca3d110-ced5-4d83-ae92-93a42202c79d"
   },
   "outputs": [
    {
     "name": "stdout",
     "output_type": "stream",
     "text": [
      "enter the starting number : 5\n",
      "enter the ending number10\n",
      "5 is an odd number \n",
      "6 is an even number \n",
      "7 is an odd number \n",
      "8 is an even number \n",
      "9 is an odd number \n",
      "10 is an even number \n"
     ]
    }
   ],
   "source": [
    "oddEven()"
   ]
  },
  {
   "cell_type": "code",
   "execution_count": 8,
   "metadata": {
    "colab": {},
    "colab_type": "code",
    "id": "2HHszHbECKzn"
   },
   "outputs": [],
   "source": [
    "@hello\n",
    "def primeNumber(a,b):\n",
    "    for i in range(a,b+1):\n",
    "        if(i<=1):\n",
    "            continue\n",
    "        elif(i!=2 and i%2==0):\n",
    "             continue\n",
    "        elif(i!=3 and i%3==0):\n",
    "             continue\n",
    "        elif(i!=5 and i%5==0):\n",
    "             continue\n",
    "        elif(i!=7 and i%7==0):\n",
    "              continue\n",
    "        else:\n",
    "            print(\"{} is a prime number\".format(i))"
   ]
  },
  {
   "cell_type": "code",
   "execution_count": 13,
   "metadata": {
    "colab": {
     "base_uri": "https://localhost:8080/",
     "height": 85
    },
    "colab_type": "code",
    "id": "v3CTBYdjCUdn",
    "outputId": "12ee75e3-d1e7-420c-e5b6-50e0bab2f615"
   },
   "outputs": [
    {
     "name": "stdout",
     "output_type": "stream",
     "text": [
      "enter the starting number : 5\n",
      "enter the ending number10\n",
      "5 is a prime number\n",
      "7 is a prime number\n"
     ]
    }
   ],
   "source": [
    "primeNumber()"
   ]
  },
  {
   "cell_type": "code",
   "execution_count": 9,
   "metadata": {
    "colab": {
     "base_uri": "https://localhost:8080/",
     "height": 51
    },
    "colab_type": "code",
    "id": "FjjBtoWvCZK_",
    "outputId": "fd5114cf-46e3-45a9-fea7-3e8c813e0d5f"
   },
   "outputs": [
    {
     "name": "stdout",
     "output_type": "stream",
     "text": [
      "Don't try , you cannot write!!!\n",
      "Sucessfully completed\n"
     ]
    }
   ],
   "source": [
    "#coding based on Exception Handling\n",
    "try:\n",
    "    file=open(\"Deepak.txt\",\"r\")\n",
    "    file.write(\"how are you?!!\")\n",
    "    file.close\n",
    "except :\n",
    "       print(\"Don't try , you cannot write!!!\")\n",
    "finally : \n",
    "       print(\"Sucessfully completed\")"
   ]
  }
 ],
 "metadata": {
  "colab": {
   "name": "Assignment9&10_day8.ipynb",
   "provenance": []
  },
  "kernelspec": {
   "display_name": "Python 3",
   "language": "python",
   "name": "python3"
  },
  "language_info": {
   "codemirror_mode": {
    "name": "ipython",
    "version": 3
   },
   "file_extension": ".py",
   "mimetype": "text/x-python",
   "name": "python",
   "nbconvert_exporter": "python",
   "pygments_lexer": "ipython3",
   "version": "3.8.3"
  }
 },
 "nbformat": 4,
 "nbformat_minor": 1
}
