{
 "cells": [
  {
   "cell_type": "code",
   "execution_count": 1,
   "metadata": {},
   "outputs": [
    {
     "name": "stdout",
     "output_type": "stream",
     "text": [
      "enter amount to be withdrawn 25000\n",
      "owner_name deepak\n",
      "your balance 15000\n",
      "-----------transaction completed------------\n",
      "enter the amount to be deposited 5000\n",
      "customer name  deepak\n",
      "your balance is  20000\n"
     ]
    }
   ],
   "source": [
    "class bank:\n",
    "     def __init__(self,owner_name,balance):\n",
    "        self.owner_name=owner_name\n",
    "        self.balance= balance\n",
    "     def deposit(self):\n",
    "             amount=int(input(\"enter the amount to be deposited \"))\n",
    "             print(\"customer name \",self.owner_name)\n",
    "             \n",
    "             amount+=self.balance\n",
    "             self.balance=amount\n",
    "             print(\"your balance is \",amount)\n",
    "\n",
    "\n",
    "     def withdraw(self):\n",
    "            with_draw=int(input(\"enter amount to be withdrawn \"))\n",
    "            print(\"owner_name\",self.owner_name)\n",
    "            \n",
    "            if(self.balance<with_draw):\n",
    "                print(\"insufficient balance\")\n",
    "                print(\"your balance\",self.balance)\n",
    "                print(\"---transaction incomplete------\")\n",
    "            else:\n",
    "                amount=self.balance-with_draw\n",
    "                self.balance=amount\n",
    "                print(\"your balance\",amount)\n",
    "                print(\"-----------transaction completed------------\")\n",
    "     \n",
    "\n",
    "\n",
    "\n",
    "account=bank(\"deepak\",40000)\n",
    "\n",
    "\n",
    "\n",
    "\n",
    "account.withdraw()\n",
    "\n",
    "\n",
    "\n",
    "account.deposit()\n",
    "\n",
    "\n",
    "\n"
   ]
  },
  {
   "cell_type": "code",
   "execution_count": null,
   "metadata": {},
   "outputs": [],
   "source": []
  }
 ],
 "metadata": {
  "kernelspec": {
   "display_name": "Python 3",
   "language": "python",
   "name": "python3"
  },
  "language_info": {
   "codemirror_mode": {
    "name": "ipython",
    "version": 3
   },
   "file_extension": ".py",
   "mimetype": "text/x-python",
   "name": "python",
   "nbconvert_exporter": "python",
   "pygments_lexer": "ipython3",
   "version": "3.8.3"
  }
 },
 "nbformat": 4,
 "nbformat_minor": 4
}
