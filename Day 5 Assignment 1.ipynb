{
 "cells": [
  {
   "cell_type": "markdown",
   "metadata": {},
   "source": [
    "# Write a program to identify sublist [1,1,5] is there in the given list in the same order"
   ]
  },
  {
   "cell_type": "code",
   "execution_count": 3,
   "metadata": {},
   "outputs": [
    {
     "name": "stdout",
     "output_type": "stream",
     "text": [
      "Original list : [1, 5, 6, 4, 1, 2, 3, 5]\n",
      "Original sub list : [1, 1, 5]\n",
      "Yes, list is subset of other.\n"
     ]
    }
   ],
   "source": [
    "test_list = [1,5,6,4,1,2,3,5] \n",
    "sub_list = [1,1,5] \n",
    "   \n",
    "print (\"Original list : \" + str(test_list)) \n",
    "print (\"Original sub list : \" + str(sub_list)) \n",
    "   \n",
    "flag = 0\n",
    "if(all(x in test_list for x in sub_list)): \n",
    "    flag = 1\n",
    "if (flag) : \n",
    "    print (\"Yes, list is subset of other.\") \n",
    "else : \n",
    "    print (\"No, list is not subset of other.\") \n"
   ]
  },
  {
   "cell_type": "code",
   "execution_count": 10,
   "metadata": {},
   "outputs": [
    {
     "name": "stdout",
     "output_type": "stream",
     "text": [
      "Original list : [6, 5, 2, 3, 4, 6]\n",
      "Original sub list : [1, 1, 5]\n",
      "No, list is not subset of other.\n"
     ]
    }
   ],
   "source": [
    "test_list = [6,5,2,3,4,6] \n",
    "sub_list = [1,1,5] \n",
    "   \n",
    "print (\"Original list : \" + str(test_list)) \n",
    "print (\"Original sub list : \" + str(sub_list)) \n",
    "   \n",
    "flag = 0\n",
    "if(all(x in test_list for x in sub_list)): \n",
    "    flag = 1\n",
    "if (flag) : \n",
    "    print (\"Yes, list is subset of other.\") \n",
    "else : \n",
    "    print (\"No, list is not subset of other.\") \n"
   ]
  }
 ],
 "metadata": {
  "kernelspec": {
   "display_name": "Python 3",
   "language": "python",
   "name": "python3"
  },
  "language_info": {
   "codemirror_mode": {
    "name": "ipython",
    "version": 3
   },
   "file_extension": ".py",
   "mimetype": "text/x-python",
   "name": "python",
   "nbconvert_exporter": "python",
   "pygments_lexer": "ipython3",
   "version": "3.8.3"
  }
 },
 "nbformat": 4,
 "nbformat_minor": 4
}
