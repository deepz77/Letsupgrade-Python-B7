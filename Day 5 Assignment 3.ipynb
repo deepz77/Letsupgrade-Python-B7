{
 "cells": [
  {
   "cell_type": "markdown",
   "metadata": {},
   "source": [
    "# Make a Lambda function for capitalizing the whole sentence and map all the sentence in a list"
   ]
  },
  {
   "cell_type": "code",
   "execution_count": 22,
   "metadata": {},
   "outputs": [
    {
     "name": "stdout",
     "output_type": "stream",
     "text": [
      "['Hi', 'This', 'Is', 'My', 'Jupyter', 'Notebook']\n"
     ]
    }
   ],
   "source": [
    "lst=[\"hi\",\"this\",\"is\",\"my\",\"jupyter\",\"notebook\"]\n",
    "\n",
    "\n",
    "lst1=list(map(lambda x:x.capitalize(),lst))\n",
    "\n",
    "\n",
    "print(lst1)\n",
    "\n"
   ]
  }
 ],
 "metadata": {
  "kernelspec": {
   "display_name": "Python 3",
   "language": "python",
   "name": "python3"
  },
  "language_info": {
   "codemirror_mode": {
    "name": "ipython",
    "version": 3
   },
   "file_extension": ".py",
   "mimetype": "text/x-python",
   "name": "python",
   "nbconvert_exporter": "python",
   "pygments_lexer": "ipython3",
   "version": "3.8.3"
  }
 },
 "nbformat": 4,
 "nbformat_minor": 4
}
