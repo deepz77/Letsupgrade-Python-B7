{
 "cells": [
  {
   "cell_type": "code",
   "execution_count": 3,
   "metadata": {},
   "outputs": [
    {
     "name": "stdout",
     "output_type": "stream",
     "text": [
      "enter the altitude: 4999\n",
      "come down to 1000ft\n"
     ]
    }
   ],
   "source": [
    "altitude = int(input('enter the altitude: '))\n",
    "if altitude <= 1000:\n",
    "    print('land the plane')\n",
    "elif altitude > 1000 & altitude <= 5000:\n",
    "    print('come down to 1000ft')\n",
    "elif altitude > 5000:\n",
    "    print('go around and try later')"
   ]
  },
  {
   "cell_type": "code",
   "execution_count": 4,
   "metadata": {},
   "outputs": [
    {
     "name": "stdout",
     "output_type": "stream",
     "text": [
      "enter the altitude: 1000\n",
      "land the plane\n"
     ]
    }
   ],
   "source": [
    "altitude = int(input('enter the altitude: '))\n",
    "if altitude <= 1000:\n",
    "    print('land the plane')\n",
    "elif altitude > 1000 & altitude <= 5000:\n",
    "    print('come down to 1000ft')\n",
    "elif altitude > 5000:\n",
    "    print('go around and try later')"
   ]
  },
  {
   "cell_type": "code",
   "execution_count": 5,
   "metadata": {},
   "outputs": [
    {
     "name": "stdout",
     "output_type": "stream",
     "text": [
      "enter the altitude: 6000\n",
      "come down to 1000ft\n"
     ]
    }
   ],
   "source": [
    "altitude = int(input('enter the altitude: '))\n",
    "if altitude <= 1000:\n",
    "    print('land the plane')\n",
    "elif altitude > 1000 & altitude <= 5000:\n",
    "    print('come down to 1000ft')\n",
    "elif altitude > 5000:\n",
    "    print('go around and try later')"
   ]
  },
  {
   "cell_type": "code",
   "execution_count": 6,
   "metadata": {},
   "outputs": [
    {
     "name": "stdout",
     "output_type": "stream",
     "text": [
      "enter the altitude: 500\n",
      "land the plane\n"
     ]
    }
   ],
   "source": [
    "altitude = int(input('enter the altitude: '))\n",
    "if altitude <= 1000:\n",
    "    print('land the plane')\n",
    "elif altitude > 1000 & altitude <= 5000:\n",
    "    print('come down to 1000ft')\n",
    "elif altitude > 5000:\n",
    "    print('go around and try later')"
   ]
  },
  {
   "cell_type": "code",
   "execution_count": 7,
   "metadata": {},
   "outputs": [
    {
     "name": "stdout",
     "output_type": "stream",
     "text": [
      "enter the altitude: 5000\n",
      "come down to 1000ft\n"
     ]
    }
   ],
   "source": [
    "altitude = int(input('enter the altitude: '))\n",
    "if altitude <= 1000:\n",
    "    print('land the plane')\n",
    "elif altitude > 1000 & altitude <= 5000:\n",
    "    print('come down to 1000ft')\n",
    "elif altitude > 5000:\n",
    "    print('go around and try later')"
   ]
  },
  {
   "cell_type": "code",
   "execution_count": null,
   "metadata": {},
   "outputs": [],
   "source": []
  }
 ],
 "metadata": {
  "kernelspec": {
   "display_name": "Python 3",
   "language": "python",
   "name": "python3"
  },
  "language_info": {
   "codemirror_mode": {
    "name": "ipython",
    "version": 3
   },
   "file_extension": ".py",
   "mimetype": "text/x-python",
   "name": "python",
   "nbconvert_exporter": "python",
   "pygments_lexer": "ipython3",
   "version": "3.8.3"
  }
 },
 "nbformat": 4,
 "nbformat_minor": 4
}
